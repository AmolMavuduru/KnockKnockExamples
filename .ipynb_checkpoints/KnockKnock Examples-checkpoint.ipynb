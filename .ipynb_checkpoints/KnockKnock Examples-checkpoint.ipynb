{
 "cells": [
  {
   "cell_type": "markdown",
   "metadata": {},
   "source": [
    "# KnockKnock Examples"
   ]
  },
  {
   "cell_type": "markdown",
   "metadata": {},
   "source": [
    "## Model Training Code"
   ]
  },
  {
   "cell_type": "code",
   "execution_count": 1,
   "metadata": {},
   "outputs": [],
   "source": [
    "from keras.utils.np_utils import to_categorical\n",
    "from keras.models import Sequential\n",
    "from keras.layers import Conv2D, MaxPooling2D, Flatten, Dense, Dropout, Activation\n",
    "from keras.datasets import mnist\n",
    "\n",
    "(X_train, y_train), (X_test, y_test) = mnist.load_data()\n",
    "X_train = X_train.reshape(X_train.shape[0], 28, 28,1) # adds extra dimension\n",
    "X_test = X_test.reshape(X_test.shape[0], 28, 28, 1) # adds extra dimension\n",
    "input_shape = (28, 28, 1)\n",
    "\n",
    "X_train = X_train.astype('float32')\n",
    "X_test = X_test.astype('float32')\n",
    "X_train /= 255\n",
    "X_test /= 255\n",
    "\n",
    "y_train = to_categorical(y_train)\n",
    "y_test = to_categorical(y_test)"
   ]
  },
  {
   "cell_type": "code",
   "execution_count": 2,
   "metadata": {},
   "outputs": [],
   "source": [
    "def train_model(X_train, y_train, X_test, y_test):\n",
    "\n",
    "    model = Sequential()\n",
    "    model.add(Conv2D(kernel_size=(3, 3), \n",
    "                     filters=32, \n",
    "                     input_shape=input_shape))\n",
    "    model.add(Activation('relu'))\n",
    "\n",
    "    model.add(Conv2D(kernel_size=(3, 3), filters=32))\n",
    "    model.add(Activation('relu'))\n",
    "    model.add(MaxPooling2D(2, 2))\n",
    "\n",
    "    model.add(Conv2D(kernel_size=(3, 3), filters=64))\n",
    "    model.add(Activation('relu'))\n",
    "\n",
    "    model.add(Flatten())\n",
    "    model.add(Dense(1024))\n",
    "    model.add(Activation('relu'))\n",
    "    model.add(Dropout(0.3))\n",
    "\n",
    "    model.add(Dense(10, activation='softmax'))\n",
    "\n",
    "    model.compile(loss='categorical_crossentropy', \n",
    "                  optimizer='adam', \n",
    "                  metrics=['accuracy'])\n",
    "\n",
    "    model.fit(X_train, y_train, \n",
    "              validation_data=(X_test, y_test), \n",
    "              epochs=1, \n",
    "              batch_size=256)\n",
    "\n",
    "    test_score = model.evaluate(X_test, y_test)\n",
    "\n",
    "    return {'accuracy': 100*test_score[1], \n",
    "            'loss': test_score[0]}\n"
   ]
  },
  {
   "cell_type": "markdown",
   "metadata": {},
   "source": [
    "## Desktop Notifications"
   ]
  },
  {
   "cell_type": "code",
   "execution_count": 6,
   "metadata": {},
   "outputs": [
    {
     "name": "stdout",
     "output_type": "stream",
     "text": [
      "235/235 [==============================] - 51s 215ms/step - loss: 0.4004 - accuracy: 0.8795 - val_loss: 0.0402 - val_accuracy: 0.9866\n",
      "313/313 [==============================] - 2s 7ms/step - loss: 0.0402 - accuracy: 0.9866\n"
     ]
    },
    {
     "data": {
      "text/plain": [
       "{'accuracy': 98.65999817848206, 'loss': 0.04016043618321419}"
      ]
     },
     "execution_count": 6,
     "metadata": {},
     "output_type": "execute_result"
    }
   ],
   "source": [
    "from knockknock import desktop_sender\n",
    "\n",
    "@desktop_sender(title=\"Knockknock Desktop Notifier\")\n",
    "def train_model_desktop_notify(X_train, y_train, X_test, y_test):\n",
    "    \n",
    "    return train_model(X_train, \n",
    "                       y_train, \n",
    "                       X_test, \n",
    "                       y_test)\n",
    "\n",
    "train_model_desktop_notify(X_train, y_train, X_test, y_test)"
   ]
  },
  {
   "cell_type": "markdown",
   "metadata": {},
   "source": [
    "## Email Notifications"
   ]
  },
  {
   "cell_type": "code",
   "execution_count": null,
   "metadata": {},
   "outputs": [],
   "source": [
    "from knockknock import email_sender\n",
    "\n",
    "@email_sender(recipient_emails=[\"amolmavuduru@gmail.com\"], \n",
    "              sender_email=\"knockknocknotificationstest@gmail.com\")\n",
    "def train_model_email_notify(X_train, y_train, X_test, y_test):\n",
    "    \n",
    "    return train_model(X_train, \n",
    "                       y_train, \n",
    "                       X_test, \n",
    "                       y_test)\n",
    "\n",
    "train_model_email_notify(X_train, y_train, X_test, y_test)"
   ]
  },
  {
   "cell_type": "markdown",
   "metadata": {},
   "source": [
    "## Slack Notifications"
   ]
  },
  {
   "cell_type": "code",
   "execution_count": null,
   "metadata": {},
   "outputs": [],
   "source": [
    "from knockknock import slack_sender\n",
    "import os\n",
    "\n",
    "webhook_url = os.environ['KNOCKKNOCK_WEBHOOK']\n",
    "@slack_sender(webhook_url=webhook_url, channel=\"#general\")\n",
    "def train_model_slack_notify(X_train, y_train, X_test, y_test):\n",
    "    \n",
    "    return train_model(X_train, \n",
    "                       y_train, \n",
    "                       X_test, \n",
    "                       y_test)\n",
    "\n",
    "train_model_slack_notify(X_train, y_train, X_test, y_test)"
   ]
  }
 ],
 "metadata": {
  "kernelspec": {
   "display_name": "Python 3",
   "language": "python",
   "name": "python3"
  },
  "language_info": {
   "codemirror_mode": {
    "name": "ipython",
    "version": 3
   },
   "file_extension": ".py",
   "mimetype": "text/x-python",
   "name": "python",
   "nbconvert_exporter": "python",
   "pygments_lexer": "ipython3",
   "version": "3.7.6"
  }
 },
 "nbformat": 4,
 "nbformat_minor": 4
}
